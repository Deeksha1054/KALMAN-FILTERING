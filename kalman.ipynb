{
  "nbformat": 4,
  "nbformat_minor": 0,
  "metadata": {
    "colab": {
      "provenance": []
    },
    "kernelspec": {
      "name": "python3",
      "display_name": "Python 3"
    },
    "language_info": {
      "name": "python"
    }
  },
  "cells": [
    {
      "cell_type": "markdown",
      "source": [
        "**KALMAN FILTERING**"
      ],
      "metadata": {
        "id": "EnsflZA2EgfV"
      }
    },
    {
      "cell_type": "code",
      "source": [
        "import numpy as np\n",
        "\n"
      ],
      "metadata": {
        "id": "DD2qUuwWD-8u"
      },
      "execution_count": null,
      "outputs": []
    },
    {
      "cell_type": "code",
      "source": [
        "class KalmanFilter:\n",
        "    def __init__(self, A, B, H, Q, R, P, x):\n",
        "        \"\"\"\n",
        "        Initialize the Kalman Filter.\n",
        "        A: State transition matrix\n",
        "        B: Control matrix\n",
        "        H: Observation matrix\n",
        "        Q: Process noise covariance\n",
        "        R: Measurement noise covariance\n",
        "        P: Estimate error covariance\n",
        "        x: Initial state estimate\n",
        "        \"\"\"\n",
        "        self.A = A\n",
        "        self.B = B\n",
        "        self.H = H\n",
        "        self.Q = Q\n",
        "        self.R = R\n",
        "        self.P = P\n",
        "        self.x = x\n",
        "\n",
        "    def predict(self, u=0):\n",
        "        \"\"\"Predict the state and estimate covariance.\"\"\"\n",
        "        self.x = self.A @ self.x + self.B * u\n",
        "        self.P = self.A @ self.P @ self.A.T + self.Q\n",
        "\n",
        "    def update(self, z):\n",
        "        \"\"\"Update the state estimate with a new measurement.\"\"\"\n",
        "        y = z - (self.H @ self.x)  # Innovation (measurement residual)\n",
        "        S = self.H @ self.P @ self.H.T + self.R  # Innovation covariance\n",
        "        K = self.P @ self.H.T @ np.linalg.inv(S)  # Kalman gain\n",
        "        self.x = self.x + K @ y  # Updated state estimate\n",
        "        self.P = self.P - K @ self.H @ self.P  # Updated estimate covariance\n"
      ],
      "metadata": {
        "id": "-9tSdQTwED1-"
      },
      "execution_count": null,
      "outputs": []
    },
    {
      "cell_type": "code",
      "source": [
        "# Define the system parameters\n",
        "dt = 1.0  # Time step\n",
        "A = np.array([[1, dt], [0, 1]])  # State transition matrix\n",
        "B = np.array([0, 0])  # Control matrix\n",
        "H = np.array([[1, 0]])  # Observation matrix\n",
        "Q = np.array([[1e-5, 0], [0, 1e-5]])  # Process noise covariance\n",
        "R = np.array([[0.01]])  # Measurement noise covariance\n",
        "P = np.eye(2)  # Initial estimate error covariance\n",
        "x = np.array([0, 1])  # Initial state (position=0, velocity=1)\n"
      ],
      "metadata": {
        "id": "09O0TKxbEH2c"
      },
      "execution_count": null,
      "outputs": []
    },
    {
      "cell_type": "code",
      "source": [],
      "metadata": {
        "id": "bkxiVrWUEcIs"
      },
      "execution_count": null,
      "outputs": []
    },
    {
      "cell_type": "code",
      "source": [
        "# Create the Kalman filter instance\n",
        "kf = KalmanFilter(A, B, H, Q, R, P, x)\n"
      ],
      "metadata": {
        "id": "H2Dtj6iEEKeH"
      },
      "execution_count": null,
      "outputs": []
    },
    {
      "cell_type": "code",
      "source": [
        "# Simulated measurements\n",
        "measurements = [1.0, 2.0, 3.0, 4.0, 5.0]\n"
      ],
      "metadata": {
        "id": "dgpz9hwOEOx3"
      },
      "execution_count": null,
      "outputs": []
    },
    {
      "cell_type": "code",
      "source": [
        "# Apply the Kalman filter to measurements\n",
        "for z in measurements:\n",
        "    kf.predict()  # Predict the next state\n",
        "    kf.update(z)  # Update with the measurement\n",
        "    print(f\"Updated state: {kf.x}\")\n"
      ],
      "metadata": {
        "colab": {
          "base_uri": "https://localhost:8080/"
        },
        "id": "32lraif9ERfq",
        "outputId": "8c186b66-5b3f-4826-a4e7-bfb36af4272c"
      },
      "execution_count": null,
      "outputs": [
        {
          "output_type": "stream",
          "name": "stdout",
          "text": [
            "Updated state: [1. 1.]\n",
            "Updated state: [2. 1.]\n",
            "Updated state: [3. 1.]\n",
            "Updated state: [4. 1.]\n",
            "Updated state: [5. 1.]\n"
          ]
        }
      ]
    }
  ]
}